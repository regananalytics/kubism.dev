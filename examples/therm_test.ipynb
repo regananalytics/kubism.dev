{
 "metadata": {
  "language_info": {
   "codemirror_mode": {
    "name": "ipython",
    "version": 3
   },
   "file_extension": ".py",
   "mimetype": "text/x-python",
   "name": "python",
   "nbconvert_exporter": "python",
   "pygments_lexer": "ipython3",
   "version": "3.8.3-final"
  },
  "orig_nbformat": 2,
  "kernelspec": {
   "name": "python3",
   "display_name": "Python 3"
  }
 },
 "nbformat": 4,
 "nbformat_minor": 2,
 "cells": [
  {
   "cell_type": "code",
   "execution_count": 1,
   "metadata": {},
   "outputs": [],
   "source": [
    "from kubism.kubism import Model, Object, Field"
   ]
  },
  {
   "cell_type": "code",
   "execution_count": 2,
   "metadata": {
    "tags": []
   },
   "outputs": [
    {
     "output_type": "stream",
     "name": "stdout",
     "text": "CREATE TABLE IF NOT EXISTS \"Κ___Δ\" ( t_idx SERIAL PRIMARY KEY );\n(True, 'Κ___Δ')\nCREATE TABLE IF NOT EXISTS \"Κ___Γ\" ( idx SERIAL PRIMARY KEY, subs TEXT, ports INTEGER );\n(True, 'Κ___Γ')\nCREATE TABLE IF NOT EXISTS \"Κ___Λ\" ( t_idx INTEGER, subs TEXT, fields TEXT, action TEXT );\n(True, 'Κ___Λ')\n"
    }
   ],
   "source": [
    "# Create new model\n",
    "model = Model()"
   ]
  },
  {
   "cell_type": "code",
   "execution_count": 3,
   "metadata": {},
   "outputs": [
    {
     "output_type": "execute_result",
     "data": {
      "text/plain": "<kubism.kubism.Field at 0x7f11860fc580>"
     },
     "metadata": {},
     "execution_count": 3
    }
   ],
   "source": [
    "rpi = Object('RPI')\n",
    "rpi.add_field('Temp_C', 'double precision')\n",
    "rpi.add_field('Temp_F', 'double precision')"
   ]
  },
  {
   "cell_type": "code",
   "execution_count": 4,
   "metadata": {
    "tags": []
   },
   "outputs": [
    {
     "output_type": "stream",
     "name": "stdout",
     "text": "CREATE TABLE IF NOT EXISTS \"Κ__/RPI:0_Δ\" ( t_idx SERIAL PRIMARY KEY );\n(True, 'Κ__/RPI:0_Δ')\nCREATE TABLE IF NOT EXISTS \"Κ__/RPI:0_Γ\" ( idx SERIAL PRIMARY KEY, subs TEXT, ports INTEGER );\n(True, 'Κ__/RPI:0_Γ')\nCREATE TABLE IF NOT EXISTS \"Κ__/RPI:0_Λ\" ( t_idx INTEGER, subs TEXT, fields TEXT, action TEXT );\n(True, 'Κ__/RPI:0_Λ')\nExecuting from backlog:\n\tObject._add_field_to_state\nINSERT INTO \"Κ__/RPI:0_Λ\" (t_idx, fields, action) VALUES ('0', 'Temp_C', 'ADD')\nTrue\nALTER TABLE \"Κ__/RPI:0_Δ\" ADD COLUMN Temp_C double precision;\nTrue\n\tObject._add_field_to_state\nINSERT INTO \"Κ__/RPI:0_Λ\" (t_idx, fields, action) VALUES ('0', 'Temp_F', 'ADD')\nTrue\nALTER TABLE \"Κ__/RPI:0_Δ\" ADD COLUMN Temp_F double precision;\nTrue\nINSERT INTO \"Κ___Λ\" (t_idx, subs, action) VALUES ('0', 'RPI:0', 'ADD')\nTrue\nINSERT INTO \"Κ___Γ\" (subs) VALUES ('RPI:0')\nTrue\n"
    }
   ],
   "source": [
    "model += rpi"
   ]
  },
  {
   "cell_type": "code",
   "execution_count": 6,
   "metadata": {
    "tags": []
   },
   "outputs": [
    {
     "output_type": "stream",
     "name": "stdout",
     "text": "!!python/object/new:kubism.util.ref_dicts.recipe\ndictitems:\n  Temp_C:\n  - FIELD: Temp_C\n    PROPERTY: Temp_C\n    TYPE: double precision\n  Temp_F:\n  - FIELD: Temp_F\n    PROPERTY: Temp_F\n    TYPE: double precision\n\n"
    }
   ],
   "source": [
    "print(rpi.yaml)"
   ]
  },
  {
   "cell_type": "code",
   "execution_count": null,
   "metadata": {},
   "outputs": [],
   "source": []
  }
 ]
}